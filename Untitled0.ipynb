{
  "cells": [
    {
      "cell_type": "markdown",
      "metadata": {
        "id": "view-in-github",
        "colab_type": "text"
      },
      "source": [
        "<a href=\"https://colab.research.google.com/github/aminamarzouk/GSP-algorithm/blob/main/Untitled0.ipynb\" target=\"_parent\"><img src=\"https://colab.research.google.com/assets/colab-badge.svg\" alt=\"Open In Colab\"/></a>"
      ]
    },
    {
      "cell_type": "code",
      "execution_count": null,
      "metadata": {
        "id": "VSx8NefdVeT0"
      },
      "outputs": [],
      "source": [
        "import re\n",
        "import copy\n",
        "import numpy as np\n",
        "import pandas as pd\n",
        "from operator import neg"
      ]
    },
    {
      "cell_type": "markdown",
      "source": [
        "![lab 4.png](data:image/png;base64,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)\n"
      ],
      "metadata": {
        "id": "EC_JLgsNvTFl"
      }
    },
    {
      "cell_type": "code",
      "execution_count": null,
      "metadata": {
        "id": "o131XLz0VLs8"
      },
      "outputs": [],
      "source": [
        "dataset = [\n",
        "    # sequence: list of events\n",
        "    [['a'], ['b'],['f','g'],['c'],['d']],  # event: [list of strings]\n",
        "    [['b'], ['g'], ['d']], \n",
        "    [['b'], ['f'], ['g'], ['a','b']], \n",
        "    [['f'], ['a','b'], ['c'],['d']],\n",
        "    [['a'], ['b','c'], ['g'],['f'],['d','e']]\n",
        "]"
      ]
    },
    {
      "cell_type": "markdown",
      "source": [
        "**Subsequnce determination**"
      ],
      "metadata": {
        "id": "YVicnZDawdVF"
      }
    },
    {
      "cell_type": "code",
      "execution_count": null,
      "metadata": {
        "id": "N_hhfeGzV2pG"
      },
      "outputs": [],
      "source": [
        "def is_subsequence(main_sequence, subsequence): #toqa\n",
        "    def is_subsequence_recursive(subsequence_clone, start=0):\n",
        "        \"\"\"\n",
        "        Function for the recursive call of is_subsequence\n",
        "        \"\"\"\n",
        "        # check if empty: end of recursion, all itemsets have been found\n",
        "        if not subsequence_clone:\n",
        "            return True\n",
        "        # retrieves element of the subsequence and removes is from subsequence \n",
        "        first_elem = set(subsequence_clone.pop(0))\n",
        "        # search for the first itemset...\n",
        "        for i in range(start, len(main_sequence)):\n",
        "            if set(main_sequence[i]).issuperset(first_elem):\n",
        "                # and recurse\n",
        "                return is_subsequence_recursive(subsequence_clone, i + 1)\n",
        "        return False\n",
        "\n",
        "    return is_subsequence_recursive(subsequence.copy())"
      ]
    },
    {
      "cell_type": "markdown",
      "source": [
        "**Calculate Sequnce Length**"
      ],
      "metadata": {
        "id": "9G-OrtoNw56x"
      }
    },
    {
      "cell_type": "code",
      "execution_count": null,
      "metadata": {
        "id": "zRZEN3JuWDoT"
      },
      "outputs": [],
      "source": [
        "def sequence_length(sequence):#toqa\n",
        " return sum(len(i) for i in sequence)"
      ]
    },
    {
      "cell_type": "markdown",
      "source": [
        "**Support Count**"
      ],
      "metadata": {
        "id": "rb4BRs1gxDfh"
      }
    },
    {
      "cell_type": "code",
      "execution_count": null,
      "metadata": {
        "id": "CZFSCnswWrTH"
      },
      "outputs": [],
      "source": [
        "def count_support(dataset, cand_seq):#Amina\n",
        "\n",
        "  return sum(1 for seq in dataset if is_subsequence([event[1] for event in seq] if isinstance(seq[0], tuple) else seq, cand_seq))"
      ]
    },
    {
      "cell_type": "markdown",
      "source": [
        "**Candidate Generation For Two Items**"
      ],
      "metadata": {
        "id": "vY42SN6KxJZu"
      }
    },
    {
      "cell_type": "code",
      "execution_count": null,
      "metadata": {
        "id": "Qu8H-ADAWyRF"
      },
      "outputs": [],
      "source": [
        "def gen_cands_for_pair(cand1, cand2):#Zeyad\n",
        "\n",
        "    cand1_clone = copy.deepcopy(cand1)\n",
        "    cand2_clone = copy.deepcopy(cand2)\n",
        "    # drop the leftmost item from cand1:\n",
        "    if len(cand1[0]) == 1:\n",
        "        cand1_clone.pop(0)\n",
        "    else:\n",
        "        cand1_clone[0] = cand1_clone[0][1:]\n",
        "    # drop the rightmost item from cand2:\n",
        "    if len(cand2[-1]) == 1:\n",
        "        cand2_clone.pop(-1)\n",
        "    else:\n",
        "        cand2_clone[-1] = cand2_clone[-1][:-1]\n",
        "    \n",
        "    # if the result is not the same, then we dont need to join\n",
        "    if not cand1_clone == cand2_clone:\n",
        "        return []\n",
        "    else:\n",
        "        new_cand = copy.deepcopy(cand1)\n",
        "        if len(cand2[-1]) == 1:\n",
        "            new_cand.append(cand2[-1])\n",
        "        else:\n",
        "            new_cand[-1].extend([cand2[-1][-1]])\n",
        "        return new_cand"
      ]
    },
    {
      "cell_type": "markdown",
      "source": [
        "**Candidate Generation For More Than Two Items**"
      ],
      "metadata": {
        "id": "awwQogY8xeD3"
      }
    },
    {
      "cell_type": "code",
      "execution_count": null,
      "metadata": {
        "id": "0pdks-LiW1WP"
      },
      "outputs": [],
      "source": [
        "def gen_cands(last_lvl_cands):#Zeyad\n",
        "#callculate k+1\n",
        "    k = sequence_length(last_lvl_cands[0]) + 1\n",
        "#if k=2 generate candidate between all accepted ellements\n",
        "    if k == 2:\n",
        "        flat_short_cands = [item for sublist2 in last_lvl_cands for sublist1 in sublist2 for item in sublist1]\n",
        "        result = [[[a, b]] for a in flat_short_cands for b in flat_short_cands if b > a]\n",
        "        result.extend([[[a], [b]] for a in flat_short_cands for b in flat_short_cands])\n",
        "        return result\n",
        "    else: #else generate candidate pairs between elements\n",
        "        cands = []\n",
        "        for i in range(0, len(last_lvl_cands)):\n",
        "            for j in range(0, len(last_lvl_cands)):\n",
        "                new_cand = gen_cands_for_pair(last_lvl_cands[i], last_lvl_cands[j])\n",
        "                if not new_cand == []:\n",
        "                    cands.append(new_cand)\n",
        "        cands.sort()\n",
        "        return cands"
      ]
    },
    {
      "cell_type": "markdown",
      "source": [
        "Subsequnces Generation"
      ],
      "metadata": {
        "id": "PKJinyqZxzl2"
      }
    },
    {
      "cell_type": "code",
      "execution_count": null,
      "metadata": {
        "id": "gPXxhZhRW4LW"
      },
      "outputs": [],
      "source": [
        "def gen_subsequences(sequence):#Aya\n",
        "    result = []\n",
        "    for i, itemset in enumerate(sequence):\n",
        "        if len(itemset) == 1:\n",
        "            seq_clone = copy.deepcopy(sequence)\n",
        "            seq_clone.pop(i)\n",
        "            result.append(seq_clone)\n",
        "        else:\n",
        "            for j in range(len(itemset)):\n",
        "                seq_clone = copy.deepcopy(sequence)\n",
        "                seq_clone[i].pop(j)\n",
        "                result.append(seq_clone)\n",
        "    return result"
      ]
    },
    {
      "cell_type": "code",
      "execution_count": null,
      "metadata": {
        "id": "_pkhURu6XAs4"
      },
      "outputs": [],
      "source": [
        "def prune_cands(last_lvl_cands,cands_gen):#hend\n",
        "  res=[]\n",
        "  for cand in cands_gen:\n",
        "    if all(x in last_lvl_cands for x in gen_subsequences(cand)): # if all items in subsequence of candidates are in last_lvl_cands \n",
        "      res.append(cand)\n",
        "  return res"
      ]
    },
    {
      "cell_type": "code",
      "source": [
        "last_lvl_freq_patterns = [\n",
        "    [['a', 'b']], \n",
        "    [['b', 'c']], \n",
        "    [['a'], ['b']], \n",
        "    [['a'], ['c']], \n",
        "    [['b'], ['c']], \n",
        "    [['c'], ['b']], \n",
        "    [['c'], ['c']]\n",
        "]\n",
        "new_cands=[\n",
        "    [['a'], ['b'], ['c']],\n",
        " [['a'], ['b', 'c']],\n",
        " [['a'], ['c'], ['b']],\n",
        " [['a'], ['c'], ['c']],\n",
        " [['a', 'b'], ['c']],\n",
        " [['a', 'b', 'c']],\n",
        " [['b'], ['c'], ['b']],\n",
        " [['b'], ['c'], ['c']],\n",
        " [['b', 'c'], ['b']],\n",
        " [['b', 'c'], ['c']],\n",
        " [['c'], ['b'], ['c']],\n",
        " [['c'], ['b', 'c']],\n",
        " [['c'], ['c'], ['b']],\n",
        " [['c'], ['c'], ['c']]\n",
        " ]\n",
        " \n",
        "cands_pruned = prune_cands(last_lvl_freq_patterns, new_cands)\n",
        "cands_pruned\n"
      ],
      "metadata": {
        "colab": {
          "base_uri": "https://localhost:8080/"
        },
        "id": "6uqhnhNnyHiY",
        "outputId": "bf73f2fe-e870-4574-dd1c-eca2486ebaab"
      },
      "execution_count": null,
      "outputs": [
        {
          "output_type": "execute_result",
          "data": {
            "text/plain": [
              "[[['a'], ['b'], ['c']],\n",
              " [['a'], ['b', 'c']],\n",
              " [['a'], ['c'], ['b']],\n",
              " [['a'], ['c'], ['c']],\n",
              " [['a', 'b'], ['c']],\n",
              " [['b'], ['c'], ['c']],\n",
              " [['b', 'c'], ['c']],\n",
              " [['c'], ['b'], ['c']],\n",
              " [['c'], ['b', 'c']],\n",
              " [['c'], ['c'], ['b']],\n",
              " [['c'], ['c'], ['c']]]"
            ]
          },
          "metadata": {},
          "execution_count": 14
        }
      ]
    },
    {
      "cell_type": "code",
      "execution_count": null,
      "metadata": {
        "id": "wis0sr86XESu"
      },
      "outputs": [],
      "source": [
        "def gsp(dataset, min_sup):#last fn\n",
        "\n",
        "    overall = []\n",
        "    min_sup *= len(dataset)\n",
        "    # make the first pass over the sequence database to yield all the 1-element frequent subsequences\n",
        "    items = sorted(set([item for sequence in dataset\n",
        "                        for event in sequence\n",
        "                        for item in (event[1] if isinstance(event, tuple) else event)]))\n",
        "    single_item_sequences = [[[item]] for item in items]\n",
        "    single_item_counts = [(s, count_support(dataset, s)) for s in single_item_sequences]\n",
        "    single_item_counts = [(i, count) for i, count in single_item_counts if count >= min_sup]\n",
        "    overall.append(single_item_counts)\n",
        "\n",
        "    k = 1\n",
        "    while overall[k - 1]:\n",
        "        # 1. candidate generation: merge pairs of frequent subsequences found in the \n",
        "        # (k-1)th pass to generate candidate sequences that contain k items \n",
        "        last_lvl_cands = [x[0] for x in overall[k - 1]]\n",
        "        cands_gen = gen_cands(last_lvl_cands)\n",
        "        # 2. candidate pruning: prune candidate k-sequences that contain infrequent \n",
        "        # (contiguous) (k-1)-subsequences (Apriori principle)\n",
        "        cands_pruned = prune_cands(last_lvl_cands, cands_gen)\n",
        "        # 3. support counting: make a new pass over the sequence database to find \n",
        "        # the support for these candidate sequences\n",
        "        cands_counts = [(s, count_support(dataset, s)) for s in cands_pruned]\n",
        "        # 4. candidate elimination: eliminate candidate k-sequences whose actual \n",
        "        # support is less than `minsup`\n",
        "        result_lvl = [(i, count) for i, count in cands_counts if count >= min_sup]\n",
        "      \n",
        "        overall.append(result_lvl)\n",
        "        k += 1\n",
        "    # \"flatten\" overall\n",
        "    overall = overall[:-1]\n",
        "    overall = [item for sublist in overall for item in sublist]\n",
        "    return overall\n",
        "\n"
      ]
    },
    {
      "cell_type": "code",
      "source": [
        "gsp(dataset, min_sup=0.4)"
      ],
      "metadata": {
        "id": "OgDM0gbJnHTg",
        "colab": {
          "base_uri": "https://localhost:8080/"
        },
        "outputId": "bd466c23-ea3a-4d36-a3d9-827d5ac53f0c"
      },
      "execution_count": null,
      "outputs": [
        {
          "output_type": "execute_result",
          "data": {
            "text/plain": [
              "[([['a']], 4),\n",
              " ([['b']], 5),\n",
              " ([['c']], 3),\n",
              " ([['d']], 4),\n",
              " ([['f']], 4),\n",
              " ([['g']], 4),\n",
              " ([['a', 'b']], 2),\n",
              " ([['a'], ['b']], 2),\n",
              " ([['a'], ['c']], 3),\n",
              " ([['a'], ['d']], 3),\n",
              " ([['a'], ['f']], 2),\n",
              " ([['a'], ['g']], 2),\n",
              " ([['b'], ['c']], 2),\n",
              " ([['b'], ['d']], 4),\n",
              " ([['b'], ['f']], 3),\n",
              " ([['b'], ['g']], 4),\n",
              " ([['c'], ['d']], 3),\n",
              " ([['f'], ['a']], 2),\n",
              " ([['f'], ['b']], 2),\n",
              " ([['f'], ['c']], 2),\n",
              " ([['f'], ['d']], 3),\n",
              " ([['g'], ['d']], 3),\n",
              " ([['a'], ['b'], ['d']], 2),\n",
              " ([['a'], ['b'], ['f']], 2),\n",
              " ([['a'], ['b'], ['g']], 2),\n",
              " ([['a'], ['c'], ['d']], 3),\n",
              " ([['a'], ['f'], ['d']], 2),\n",
              " ([['a'], ['g'], ['d']], 2),\n",
              " ([['b'], ['c'], ['d']], 2),\n",
              " ([['b'], ['f'], ['d']], 2),\n",
              " ([['b'], ['g'], ['d']], 3),\n",
              " ([['f'], ['a', 'b']], 2),\n",
              " ([['f'], ['c'], ['d']], 2),\n",
              " ([['a'], ['b'], ['f'], ['d']], 2),\n",
              " ([['a'], ['b'], ['g'], ['d']], 2)]"
            ]
          },
          "metadata": {},
          "execution_count": 16
        }
      ]
    },
    {
      "cell_type": "markdown",
      "metadata": {
        "id": "3Jj175knUUCO"
      },
      "source": []
    }
  ],
  "metadata": {
    "colab": {
      "provenance": [],
      "include_colab_link": true
    },
    "kernelspec": {
      "display_name": "Python 3",
      "name": "python3"
    },
    "language_info": {
      "name": "python"
    }
  },
  "nbformat": 4,
  "nbformat_minor": 0
}